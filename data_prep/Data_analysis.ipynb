{
 "cells": [
  {
   "cell_type": "markdown",
   "metadata": {},
   "source": [
    "# Adura data analysis"
   ]
  },
  {
   "cell_type": "markdown",
   "metadata": {},
   "source": [
    "The analysis is based on dumps of the awisa/adura database on the 28.11.2023 (21 tables). The structure of the database can be visualized in 'Awisa-Datenbank-struktur.png'."
   ]
  },
  {
   "cell_type": "code",
   "execution_count": 1,
   "metadata": {},
   "outputs": [
    {
     "name": "stdout",
     "output_type": "stream",
     "text": [
      "Warning: ad_meldung_ad_weitere_info-20231128.csv is empty. Skipping.\n"
     ]
    }
   ],
   "source": [
    "import pandas as pd\n",
    "import os\n",
    "\n",
    "folder_path = '../csv-files'\n",
    "\n",
    "# Create an empty dictionary to store DataFrames\n",
    "dfs = {}\n",
    "\n",
    "# Loop through each file in the folder\n",
    "for file in os.listdir(folder_path):\n",
    "    if file.endswith('.csv'):\n",
    "        # Use the file name (without extension) as the variable name\n",
    "        variable_name = os.path.splitext(file)[0]\n",
    "\n",
    "        try:\n",
    "            # Read the CSV file and assign it to the variable in the dictionary\n",
    "            dfs[variable_name] = pd.read_csv(os.path.join(folder_path, file), sep='|')\n",
    "        except pd.errors.EmptyDataError:\n",
    "            # Handle the case where the file is empty\n",
    "            print(f\"Warning: {file} is empty. Skipping.\")"
   ]
  },
  {
   "cell_type": "markdown",
   "metadata": {},
   "source": [
    "### Data security\n",
    "\n",
    "ad_meldungen and ad_steckbrief have a boolean column 'is_public' to differenciate both type of data"
   ]
  },
  {
   "cell_type": "code",
   "execution_count": 2,
   "metadata": {},
   "outputs": [],
   "source": [
    "def public_data(doc):\n",
    "    return doc[doc['is_public']]\n",
    "\n",
    "dfs['ad_meldung-20231128'] = public_data(dfs['ad_meldung-20231128'])\n",
    "dfs['ad_steckbrief-20231128'] = public_data(dfs['ad_steckbrief-20231128'])"
   ]
  },
  {
   "cell_type": "markdown",
   "metadata": {},
   "source": [
    "### **ad_gefahr-20231128** : "
   ]
  },
  {
   "cell_type": "markdown",
   "metadata": {},
   "source": [
    "#### Content:\n",
    "\n",
    "This table contains the 'Gefahr' with their date of creation. Gefahr are general topics. They regroup Steckbriefe and Meldungen"
   ]
  },
  {
   "cell_type": "markdown",
   "metadata": {},
   "source": [
    "#### Length:"
   ]
  },
  {
   "cell_type": "code",
   "execution_count": 3,
   "metadata": {},
   "outputs": [
    {
     "name": "stdout",
     "output_type": "stream",
     "text": [
      "Length of ad_gefahr-20231128: 326 rows\n"
     ]
    }
   ],
   "source": [
    "print('Length of ad_gefahr-20231128:', len(dfs['ad_gefahr-20231128']), 'rows')"
   ]
  },
  {
   "cell_type": "markdown",
   "metadata": {},
   "source": [
    "#### Data overview:"
   ]
  },
  {
   "cell_type": "code",
   "execution_count": 4,
   "metadata": {},
   "outputs": [
    {
     "name": "stdout",
     "output_type": "stream",
     "text": [
      "   id                        bezeichnung_de  \\\n",
      "0   1             <em>Escherichia coli</em>   \n",
      "1   2               Hepatitis E Virus (HEV)   \n",
      "2   3  <em>Yersinia pseudotuberculosis</em>   \n",
      "3   4         <em>Bacillus cytotoxicus</em>   \n",
      "4   5       <em>Bacillus thuringiensis</em>   \n",
      "\n",
      "                         bezeichnung_en                        bezeichnung_fr  \\\n",
      "0             <em>Escherichia coli</em>             <em>Escherichia coli</em>   \n",
      "1               Hepatitis E Virus (HEV)               Hepatitis E Virus (HEV)   \n",
      "2  <em>Yersinia pseudotuberculosis</em>  <em>Yersinia pseudotuberculosis</em>   \n",
      "3         <em>Bacillus cytotoxicus</em>         <em>Bacillus cytotoxicus</em>   \n",
      "4       <em>Bacillus thuringiensis</em>       <em>Bacillus thuringiensis</em>   \n",
      "\n",
      "                         bezeichnung_it  deaktiviert             erf_date  \\\n",
      "0             <em>Escherichia coli</em>        False  08.08.2022 20:05:21   \n",
      "1               Hepatitis E Virus (HEV)        False  08.08.2022 20:05:21   \n",
      "2  <em>Yersinia pseudotuberculosis</em>        False  08.08.2022 20:05:21   \n",
      "3         <em>Bacillus cytotoxicus</em>        False  08.08.2022 20:05:21   \n",
      "4       <em>Bacillus thuringiensis</em>        False  08.08.2022 20:05:21   \n",
      "\n",
      "   erf_user             mut_date  mut_user  version  \n",
      "0        -1  08.08.2022 20:05:21        -1        0  \n",
      "1        -1  08.08.2022 20:05:21        -1        0  \n",
      "2        -1  08.08.2022 20:05:21        -1        0  \n",
      "3        -1  08.08.2022 20:05:21        -1        0  \n",
      "4        -1  08.08.2022 20:05:21        -1        0  \n"
     ]
    }
   ],
   "source": [
    "print(dfs['ad_gefahr-20231128'].head())"
   ]
  },
  {
   "cell_type": "markdown",
   "metadata": {},
   "source": [
    "#### Data types:"
   ]
  },
  {
   "cell_type": "code",
   "execution_count": 5,
   "metadata": {},
   "outputs": [
    {
     "name": "stdout",
     "output_type": "stream",
     "text": [
      "id                 int64\n",
      "bezeichnung_de    object\n",
      "bezeichnung_en    object\n",
      "bezeichnung_fr    object\n",
      "bezeichnung_it    object\n",
      "deaktiviert         bool\n",
      "erf_date          object\n",
      "erf_user           int64\n",
      "mut_date          object\n",
      "mut_user           int64\n",
      "version            int64\n",
      "dtype: object\n"
     ]
    }
   ],
   "source": [
    "print(dfs['ad_gefahr-20231128'].dtypes)"
   ]
  },
  {
   "cell_type": "markdown",
   "metadata": {},
   "source": [
    "'erf_date' and 'mut_date' to datetime type"
   ]
  },
  {
   "cell_type": "markdown",
   "metadata": {},
   "source": [
    "##### Data transformation"
   ]
  },
  {
   "cell_type": "code",
   "execution_count": 6,
   "metadata": {},
   "outputs": [
    {
     "name": "stdout",
     "output_type": "stream",
     "text": [
      "id                         int64\n",
      "bezeichnung_de            object\n",
      "bezeichnung_en            object\n",
      "bezeichnung_fr            object\n",
      "bezeichnung_it            object\n",
      "deaktiviert                 bool\n",
      "erf_date          datetime64[ns]\n",
      "erf_user                   int64\n",
      "mut_date          datetime64[ns]\n",
      "mut_user                   int64\n",
      "version                    int64\n",
      "dtype: object\n"
     ]
    }
   ],
   "source": [
    "dfs['ad_gefahr-20231128'].mut_date = pd.to_datetime(dfs['ad_gefahr-20231128'].mut_date, format='%d.%m.%Y %H:%M:%S')\n",
    "dfs['ad_gefahr-20231128'].erf_date = pd.to_datetime(dfs['ad_gefahr-20231128'].erf_date, format='%d.%m.%Y %H:%M:%S')\n",
    "\n",
    "print(dfs['ad_gefahr-20231128'].dtypes)"
   ]
  },
  {
   "cell_type": "markdown",
   "metadata": {},
   "source": [
    "#### Important columns:"
   ]
  },
  {
   "cell_type": "markdown",
   "metadata": {},
   "source": [
    "To be published:\n",
    "- bezeichnung_de\n",
    "- bezeichnung_en\n",
    "- bezeichnung_fr\n",
    "- bezeichnung_it\n",
    "- erf_date\n",
    "- mut_date\n",
    "\n",
    "Need to be used:\n",
    "- id"
   ]
  },
  {
   "cell_type": "markdown",
   "metadata": {},
   "source": [
    "### **ad_meldung-20231128** : "
   ]
  },
  {
   "cell_type": "markdown",
   "metadata": {},
   "source": [
    "#### Content:\n",
    "\n",
    "This table contains the 'meldungen' with their date of creation, if their are public or not, the level of importance (sterne), if they were published on Seismo info or not and a small summary. Meldungen are any publication of interest that have been made on a food safety topic."
   ]
  },
  {
   "cell_type": "markdown",
   "metadata": {},
   "source": [
    "#### Length:"
   ]
  },
  {
   "cell_type": "code",
   "execution_count": 7,
   "metadata": {},
   "outputs": [
    {
     "name": "stdout",
     "output_type": "stream",
     "text": [
      "Length of ad_meldung-20231128: 926 rows\n"
     ]
    }
   ],
   "source": [
    "print('Length of ad_meldung-20231128:', len(dfs['ad_meldung-20231128']), 'rows')"
   ]
  },
  {
   "cell_type": "markdown",
   "metadata": {},
   "source": [
    "#### Data overview:"
   ]
  },
  {
   "cell_type": "code",
   "execution_count": 8,
   "metadata": {},
   "outputs": [
    {
     "name": "stdout",
     "output_type": "stream",
     "text": [
      "   id        code                                              titel  \\\n",
      "2   4  N-2022-004  Junk food advertising restrictions prevent obe...   \n",
      "3   5  N-2022-005  <em>Campylobacter</em> prevalence in broiler a...   \n",
      "4   6  N-2022-006  <strong>Vegetarian women have  greater risk of...   \n",
      "5   7  N-2022-007                                  Nutritional drink   \n",
      "6   8  N-2022-008  USA: Report of Pesticide Residue Monitoring Pr...   \n",
      "\n",
      "                                            kurzinfo kommentar  is_public  \\\n",
      "2  Restrictions for junk food advertising on Tran...       NaN       True   \n",
      "3  A recent study explores the relationship betwe...       NaN       True   \n",
      "4  A study from the University of Leeds found tha...       NaN       True   \n",
      "5  An American company, which <strong>recalled 53...       NaN       True   \n",
      "6  The report summarizes  the Food and Drug Admin...       NaN       True   \n",
      "\n",
      "   sterne  seismo_publikation  seismo_info_ausgabe  status  \\\n",
      "2     0.0               False                  NaN      20   \n",
      "3     1.0                True  01.09.2022 00:00:00      20   \n",
      "4     3.0                True  01.09.2022 00:00:00      20   \n",
      "5     2.0                True  01.09.2022 00:00:00      20   \n",
      "6     1.0               False                  NaN      20   \n",
      "\n",
      "              erf_date  erf_user             mut_date  mut_user  version  \n",
      "2  12.08.2022 07:27:02        84  12.08.2022 09:30:46        36        3  \n",
      "3  12.08.2022 07:56:34        84  07.09.2022 09:14:12        36        6  \n",
      "4  12.08.2022 08:15:35        84  05.09.2022 11:26:26        36        3  \n",
      "5  12.08.2022 08:36:14        36  07.09.2022 10:09:44        36        4  \n",
      "6  12.08.2022 08:58:59        84  07.09.2022 09:21:41        36        4  \n"
     ]
    }
   ],
   "source": [
    "print(dfs['ad_meldung-20231128'].head())"
   ]
  },
  {
   "cell_type": "markdown",
   "metadata": {},
   "source": [
    "#### Data types:"
   ]
  },
  {
   "cell_type": "code",
   "execution_count": 9,
   "metadata": {},
   "outputs": [
    {
     "name": "stdout",
     "output_type": "stream",
     "text": [
      "id                       int64\n",
      "code                    object\n",
      "titel                   object\n",
      "kurzinfo                object\n",
      "kommentar               object\n",
      "is_public                 bool\n",
      "sterne                 float64\n",
      "seismo_publikation        bool\n",
      "seismo_info_ausgabe     object\n",
      "status                   int64\n",
      "erf_date                object\n",
      "erf_user                 int64\n",
      "mut_date                object\n",
      "mut_user                 int64\n",
      "version                  int64\n",
      "dtype: object\n"
     ]
    }
   ],
   "source": [
    "print(dfs['ad_meldung-20231128'].dtypes)"
   ]
  },
  {
   "cell_type": "markdown",
   "metadata": {},
   "source": [
    "'sterne' can be changed to int type and 'erf_date' and 'mut_date' to datetime type"
   ]
  },
  {
   "cell_type": "markdown",
   "metadata": {},
   "source": [
    "##### Data transformation"
   ]
  },
  {
   "cell_type": "code",
   "execution_count": 10,
   "metadata": {},
   "outputs": [
    {
     "name": "stdout",
     "output_type": "stream",
     "text": [
      "id                              int64\n",
      "code                           object\n",
      "titel                          object\n",
      "kurzinfo                       object\n",
      "kommentar                      object\n",
      "is_public                        bool\n",
      "sterne                          Int64\n",
      "seismo_publikation               bool\n",
      "seismo_info_ausgabe            object\n",
      "status                          int64\n",
      "erf_date               datetime64[ns]\n",
      "erf_user                        int64\n",
      "mut_date               datetime64[ns]\n",
      "mut_user                        int64\n",
      "version                         int64\n",
      "dtype: object\n"
     ]
    }
   ],
   "source": [
    "dfs['ad_meldung-20231128'].mut_date = pd.to_datetime(dfs['ad_meldung-20231128'].mut_date, format='%d.%m.%Y %H:%M:%S')\n",
    "dfs['ad_meldung-20231128'].erf_date = pd.to_datetime(dfs['ad_meldung-20231128'].erf_date, format='%d.%m.%Y %H:%M:%S')\n",
    "dfs['ad_meldung-20231128'].sterne = dfs['ad_meldung-20231128'].sterne.round().astype('Int64')\n",
    "\n",
    "print(dfs['ad_meldung-20231128'].dtypes)"
   ]
  },
  {
   "cell_type": "markdown",
   "metadata": {},
   "source": [
    "#### Important columns:"
   ]
  },
  {
   "cell_type": "markdown",
   "metadata": {},
   "source": [
    "To be published:\n",
    "- titel\n",
    "- kurzinfo\n",
    "- sterne\n",
    "- erf_date\n",
    "- mut_date\n",
    "\n",
    "Need to be used:\n",
    "- id\n",
    "- is_public\n",
    "- status"
   ]
  },
  {
   "cell_type": "markdown",
   "metadata": {},
   "source": [
    "### **ad_steckbrief-20231128** : "
   ]
  },
  {
   "cell_type": "markdown",
   "metadata": {},
   "source": [
    "#### Content:\n",
    "\n",
    "This table contains the 'Steckbrief' with their date of creation, if their are public or not, their safety priority, if they have a signal or not and a small summary. Steckbriefe are groups of Meldungen."
   ]
  },
  {
   "cell_type": "markdown",
   "metadata": {},
   "source": [
    "#### Length:"
   ]
  },
  {
   "cell_type": "code",
   "execution_count": 11,
   "metadata": {},
   "outputs": [
    {
     "name": "stdout",
     "output_type": "stream",
     "text": [
      "Length of ad_steckbrief-20231128: 188 rows\n"
     ]
    }
   ],
   "source": [
    "print('Length of ad_steckbrief-20231128:', len(dfs['ad_steckbrief-20231128']), 'rows')"
   ]
  },
  {
   "cell_type": "markdown",
   "metadata": {},
   "source": [
    "#### Data overview:"
   ]
  },
  {
   "cell_type": "code",
   "execution_count": 12,
   "metadata": {},
   "outputs": [
    {
     "name": "stdout",
     "output_type": "stream",
     "text": [
      "   id        code                                              titel  \\\n",
      "0   1  F-2018-006                                 Food-borne viruses   \n",
      "1   2  F-2018-007  <em>Mycobacterium avium ssp. paratuberculosis ...   \n",
      "2   3  F-2018-008                   ß-N-methylamino-L-alanine (BMAA)   \n",
      "3   4  F-2018-020                             Anthraquinone in foods   \n",
      "4   5  F-2018-021                    Blockchain in the food industry   \n",
      "\n",
      "                                            kurzinfo  \\\n",
      "0  Food-borne infections caused by various viruse...   \n",
      "1  <em>Mycobacterium avium subspecies paratubercu...   \n",
      "2  β-N-methylamino-L-alanine (BMAA) is a non-prot...   \n",
      "3  The Research Institute of Organic Agriculture ...   \n",
      "4  Blockchain technology is currently best known ...   \n",
      "\n",
      "                                             comment  is_public  \\\n",
      "0  Transmission in most cases through faecally co...       True   \n",
      "1  Old, controversial discussion that also led to...       True   \n",
      "2  Relatively new topic, only few research result...       True   \n",
      "3  The origin of anthraquinones (AC) is unknown (...       True   \n",
      "4  In this context, blockchain technology ought t...       True   \n",
      "\n",
      "         creation_date      next_evaluation  priority  signal  status  \\\n",
      "0  25.09.2018 00:00:00  12.09.2024 00:00:00        10   False      20   \n",
      "1  18.05.2018 00:00:00  10.09.2024 00:00:00        10    True      20   \n",
      "2  10.04.2018 00:00:00  12.09.2024 00:00:00        10    True      20   \n",
      "3  20.05.2018 00:00:00  14.08.2023 00:00:00        10    True      20   \n",
      "4  14.10.2018 00:00:00  17.08.2023 00:00:00        10    True      20   \n",
      "\n",
      "                                          referenzen  \\\n",
      "0  <strong>--- Primary ---</strong>\\n<ul>\\n<li><a...   \n",
      "1  <strong>--- Primary ---</strong>\\n<ul>\\n<li><a...   \n",
      "2  <strong>--- Primary ---</strong>\\n<ul>\\n<li><a...   \n",
      "3  <strong>--- Primary ---</strong><a href=\"http:...   \n",
      "4  <strong>--- Primary ---</strong>\\n<ul>\\n<li><a...   \n",
      "\n",
      "                                       bcg_dokumente  \\\n",
      "0                                                NaN   \n",
      "1  <ul>\\n<li><a href=\"https://object.gever.admin....   \n",
      "2  <ul>\\n<li><a href=\"https://object.gever.admin....   \n",
      "3  <ul>\\n<li><a href=\"https://object.gever.admin....   \n",
      "4  <ul>\\n<li><a href=\"https://object.gever.admin....   \n",
      "\n",
      "                               adura_id             erf_date  erf_user  \\\n",
      "0  5E4BB4A9-F317-47FA-4470-08D643CD26B9  25.09.2018 00:00:00      -100   \n",
      "1  41C0993E-0394-4ECE-4471-08D643CD26B9  23.05.2018 00:00:00      -100   \n",
      "2  5C099783-A813-412B-489D-08D64403E855  13.04.2018 00:00:00      -100   \n",
      "3  BE70CD3F-1DF1-458A-E053-08D64E2E2710  23.05.2018 00:00:00      -100   \n",
      "4  C0B4B5C9-4C6D-468F-E054-08D64E2E2710  16.10.2018 00:00:00      -100   \n",
      "\n",
      "              mut_date  mut_user  version  \n",
      "0  18.09.2023 06:48:55        84        6  \n",
      "1  13.02.2023 16:07:58       932        6  \n",
      "2  14.02.2023 08:19:42       932        4  \n",
      "3  24.10.2023 08:19:51        84       11  \n",
      "4  29.08.2023 08:26:24        84        5  \n"
     ]
    }
   ],
   "source": [
    "print(dfs['ad_steckbrief-20231128'].head())"
   ]
  },
  {
   "cell_type": "markdown",
   "metadata": {},
   "source": [
    "#### Data types:"
   ]
  },
  {
   "cell_type": "code",
   "execution_count": 13,
   "metadata": {},
   "outputs": [
    {
     "name": "stdout",
     "output_type": "stream",
     "text": [
      "id                  int64\n",
      "code               object\n",
      "titel              object\n",
      "kurzinfo           object\n",
      "comment            object\n",
      "is_public            bool\n",
      "creation_date      object\n",
      "next_evaluation    object\n",
      "priority            int64\n",
      "signal               bool\n",
      "status              int64\n",
      "referenzen         object\n",
      "bcg_dokumente      object\n",
      "adura_id           object\n",
      "erf_date           object\n",
      "erf_user            int64\n",
      "mut_date           object\n",
      "mut_user            int64\n",
      "version             int64\n",
      "dtype: object\n"
     ]
    }
   ],
   "source": [
    "print(dfs['ad_steckbrief-20231128'].dtypes)"
   ]
  },
  {
   "cell_type": "markdown",
   "metadata": {},
   "source": [
    "'erf_date' and 'mut_date' to datetime type"
   ]
  },
  {
   "cell_type": "markdown",
   "metadata": {},
   "source": [
    "##### Data transformation"
   ]
  },
  {
   "cell_type": "code",
   "execution_count": 14,
   "metadata": {},
   "outputs": [
    {
     "name": "stdout",
     "output_type": "stream",
     "text": [
      "id                          int64\n",
      "code                       object\n",
      "titel                      object\n",
      "kurzinfo                   object\n",
      "comment                    object\n",
      "is_public                    bool\n",
      "creation_date              object\n",
      "next_evaluation            object\n",
      "priority                    int64\n",
      "signal                       bool\n",
      "status                      int64\n",
      "referenzen                 object\n",
      "bcg_dokumente              object\n",
      "adura_id                   object\n",
      "erf_date           datetime64[ns]\n",
      "erf_user                    int64\n",
      "mut_date           datetime64[ns]\n",
      "mut_user                    int64\n",
      "version                     int64\n",
      "dtype: object\n"
     ]
    }
   ],
   "source": [
    "dfs['ad_steckbrief-20231128'].mut_date = pd.to_datetime(dfs['ad_steckbrief-20231128'].mut_date, format='%d.%m.%Y %H:%M:%S')\n",
    "dfs['ad_steckbrief-20231128'].erf_date = pd.to_datetime(dfs['ad_steckbrief-20231128'].erf_date, format='%d.%m.%Y %H:%M:%S')\n",
    "\n",
    "print(dfs['ad_steckbrief-20231128'].dtypes)"
   ]
  },
  {
   "cell_type": "markdown",
   "metadata": {},
   "source": [
    "#### Important columns:"
   ]
  },
  {
   "cell_type": "markdown",
   "metadata": {},
   "source": [
    "To be published:\n",
    "- titel\n",
    "- kurzinfo\n",
    "- priority\n",
    "- signal\n",
    "- erf_date\n",
    "- mut_date\n",
    "\n",
    "Need to be used:\n",
    "- id\n",
    "- is_public\n",
    "- status"
   ]
  },
  {
   "cell_type": "markdown",
   "metadata": {},
   "source": [
    "### **ad_bereich-20231128** : "
   ]
  },
  {
   "cell_type": "markdown",
   "metadata": {},
   "source": [
    "#### Content:\n",
    "\n",
    "This table contains the 'bereich' with their date of creation. There is only 5 Bereich and they are five big topics of food safety."
   ]
  },
  {
   "cell_type": "markdown",
   "metadata": {},
   "source": [
    "#### Length:"
   ]
  },
  {
   "cell_type": "code",
   "execution_count": 15,
   "metadata": {},
   "outputs": [
    {
     "name": "stdout",
     "output_type": "stream",
     "text": [
      "Length of ad_bereich-20231128: 5 rows\n"
     ]
    }
   ],
   "source": [
    "print('Length of ad_bereich-20231128:', len(dfs['ad_bereich-20231128']), 'rows')"
   ]
  },
  {
   "cell_type": "markdown",
   "metadata": {},
   "source": [
    "#### Data overview:"
   ]
  },
  {
   "cell_type": "code",
   "execution_count": 16,
   "metadata": {},
   "outputs": [
    {
     "name": "stdout",
     "output_type": "stream",
     "text": [
      "   id      bezeichnung_de     bezeichnung_en      bezeichnung_fr  \\\n",
      "0   1       Mikrobiologie       Microbiology       Microbiologie   \n",
      "1   2              Chemie          Chemistry              Chimie   \n",
      "2   3  Betrug / Täuschung  Fraud / Deception  Fraude / Tromperie   \n",
      "3   4           Ernährung          Nutrition           Nutrition   \n",
      "4   5            Allergie            Allergy            Allergie   \n",
      "\n",
      "   bezeichnung_it             erf_date  erf_user             mut_date  \\\n",
      "0   Microbiologia  08.08.2022 20:05:21        -1  08.08.2022 20:05:21   \n",
      "1         Chimica  08.08.2022 20:05:21        -1  08.08.2022 20:05:21   \n",
      "2  Froda / Truffa  08.08.2022 20:05:21        -1  08.08.2022 20:05:21   \n",
      "3      Nutrizione  08.08.2022 20:05:21        -1  08.08.2022 20:05:21   \n",
      "4        Allergia  08.08.2022 20:05:21        -1  08.08.2022 20:05:21   \n",
      "\n",
      "   mut_user  version  \n",
      "0        -1        0  \n",
      "1        -1        0  \n",
      "2        -1        0  \n",
      "3        -1        0  \n",
      "4        -1        0  \n"
     ]
    }
   ],
   "source": [
    "print(dfs['ad_bereich-20231128'].head())"
   ]
  },
  {
   "cell_type": "markdown",
   "metadata": {},
   "source": [
    "#### Data types:"
   ]
  },
  {
   "cell_type": "code",
   "execution_count": 17,
   "metadata": {},
   "outputs": [
    {
     "name": "stdout",
     "output_type": "stream",
     "text": [
      "id                 int64\n",
      "bezeichnung_de    object\n",
      "bezeichnung_en    object\n",
      "bezeichnung_fr    object\n",
      "bezeichnung_it    object\n",
      "erf_date          object\n",
      "erf_user           int64\n",
      "mut_date          object\n",
      "mut_user           int64\n",
      "version            int64\n",
      "dtype: object\n"
     ]
    }
   ],
   "source": [
    "print(dfs['ad_bereich-20231128'].dtypes)"
   ]
  },
  {
   "cell_type": "markdown",
   "metadata": {},
   "source": [
    "'erf_date' and 'mut_date' to datetime type"
   ]
  },
  {
   "cell_type": "markdown",
   "metadata": {},
   "source": [
    "##### Data transformation"
   ]
  },
  {
   "cell_type": "code",
   "execution_count": 18,
   "metadata": {},
   "outputs": [
    {
     "name": "stdout",
     "output_type": "stream",
     "text": [
      "id                         int64\n",
      "bezeichnung_de            object\n",
      "bezeichnung_en            object\n",
      "bezeichnung_fr            object\n",
      "bezeichnung_it            object\n",
      "erf_date          datetime64[ns]\n",
      "erf_user                   int64\n",
      "mut_date          datetime64[ns]\n",
      "mut_user                   int64\n",
      "version                    int64\n",
      "dtype: object\n"
     ]
    }
   ],
   "source": [
    "dfs['ad_bereich-20231128'].mut_date = pd.to_datetime(dfs['ad_bereich-20231128'].mut_date, format='%d.%m.%Y %H:%M:%S')\n",
    "dfs['ad_bereich-20231128'].erf_date = pd.to_datetime(dfs['ad_bereich-20231128'].erf_date, format='%d.%m.%Y %H:%M:%S')\n",
    "\n",
    "print(dfs['ad_bereich-20231128'].dtypes)"
   ]
  },
  {
   "cell_type": "markdown",
   "metadata": {},
   "source": [
    "#### Important columns:"
   ]
  },
  {
   "cell_type": "markdown",
   "metadata": {},
   "source": [
    "To be published:\n",
    "- bezeichnung_de\n",
    "- bezeichnung_en\n",
    "- bezeichnung_fr\n",
    "- bezeichnung_it\n",
    "- erf_date\n",
    "- mut_date\n",
    "\n",
    "Need to be used:\n",
    "- id"
   ]
  },
  {
   "cell_type": "markdown",
   "metadata": {},
   "source": [
    "### **ad_aktivitaet-20231128** : "
   ]
  },
  {
   "cell_type": "markdown",
   "metadata": {},
   "source": [
    "#### Content:\n",
    "\n",
    "Activity on the Steckbrief table "
   ]
  },
  {
   "cell_type": "markdown",
   "metadata": {},
   "source": [
    "#### Length:"
   ]
  },
  {
   "cell_type": "code",
   "execution_count": 19,
   "metadata": {},
   "outputs": [
    {
     "name": "stdout",
     "output_type": "stream",
     "text": [
      "Length of ad_aktivitaet-20231128: 142 rows\n"
     ]
    }
   ],
   "source": [
    "print('Length of ad_aktivitaet-20231128:', len(dfs['ad_aktivitaet-20231128']), 'rows')"
   ]
  },
  {
   "cell_type": "markdown",
   "metadata": {},
   "source": [
    "#### Data overview:"
   ]
  },
  {
   "cell_type": "code",
   "execution_count": 20,
   "metadata": {},
   "outputs": [
    {
     "name": "stdout",
     "output_type": "stream",
     "text": [
      "   id      who                 till  \\\n",
      "0   1      NaN                  NaN   \n",
      "1   2      NaN                  NaN   \n",
      "2   4      BCG                  NaN   \n",
      "3   6      NaN  30.07.2019 00:00:00   \n",
      "4   7  RB, LME  31.12.2019 00:00:00   \n",
      "\n",
      "                                                text  status  steckbrief_id  \\\n",
      "0                                    Risk assessment      10              1   \n",
      "1  In 2012, the FSVO analysed 896 tank milk sampl...      20              2   \n",
      "2  Risk assessment contribution on the topic of a...      20              4   \n",
      "3  Research project 1.17.03 =&gt; Study conducted...      20              6   \n",
      "4  Drawing up an overview list of different produ...      20              7   \n",
      "\n",
      "              erf_date  erf_user             mut_date  mut_user  version  \n",
      "0  25.09.2018 00:00:00      -100  12.09.2022 11:31:07       860        1  \n",
      "1  23.05.2018 00:00:00      -100  23.01.2023 16:09:50       932        2  \n",
      "2  23.05.2018 00:00:00      -100  07.02.2023 10:44:13       932        3  \n",
      "3  23.05.2018 00:00:00      -100  23.01.2023 16:28:20       932        2  \n",
      "4  25.09.2018 00:00:00      -100  23.01.2023 15:59:06       932        2  \n"
     ]
    }
   ],
   "source": [
    "print(dfs['ad_aktivitaet-20231128'].head())"
   ]
  },
  {
   "cell_type": "markdown",
   "metadata": {},
   "source": [
    "#### Data types:"
   ]
  },
  {
   "cell_type": "code",
   "execution_count": 21,
   "metadata": {},
   "outputs": [
    {
     "name": "stdout",
     "output_type": "stream",
     "text": [
      "id                int64\n",
      "who              object\n",
      "till             object\n",
      "text             object\n",
      "status            int64\n",
      "steckbrief_id     int64\n",
      "erf_date         object\n",
      "erf_user          int64\n",
      "mut_date         object\n",
      "mut_user          int64\n",
      "version           int64\n",
      "dtype: object\n"
     ]
    }
   ],
   "source": [
    "print(dfs['ad_aktivitaet-20231128'].dtypes)"
   ]
  },
  {
   "cell_type": "markdown",
   "metadata": {},
   "source": [
    "'till', 'erf_date' and 'mut_date' to datetime type"
   ]
  },
  {
   "cell_type": "markdown",
   "metadata": {},
   "source": [
    "##### Data transformation"
   ]
  },
  {
   "cell_type": "code",
   "execution_count": 22,
   "metadata": {},
   "outputs": [
    {
     "name": "stdout",
     "output_type": "stream",
     "text": [
      "id                        int64\n",
      "who                      object\n",
      "till             datetime64[ns]\n",
      "text                     object\n",
      "status                    int64\n",
      "steckbrief_id             int64\n",
      "erf_date         datetime64[ns]\n",
      "erf_user                  int64\n",
      "mut_date         datetime64[ns]\n",
      "mut_user                  int64\n",
      "version                   int64\n",
      "dtype: object\n"
     ]
    }
   ],
   "source": [
    "dfs['ad_aktivitaet-20231128'].till = pd.to_datetime(dfs['ad_aktivitaet-20231128'].till, format='%d.%m.%Y %H:%M:%S')\n",
    "dfs['ad_aktivitaet-20231128'].mut_date = pd.to_datetime(dfs['ad_aktivitaet-20231128'].mut_date, format='%d.%m.%Y %H:%M:%S')\n",
    "dfs['ad_aktivitaet-20231128'].erf_date = pd.to_datetime(dfs['ad_aktivitaet-20231128'].erf_date, format='%d.%m.%Y %H:%M:%S')\n",
    "\n",
    "print(dfs['ad_aktivitaet-20231128'].dtypes)"
   ]
  },
  {
   "cell_type": "markdown",
   "metadata": {},
   "source": [
    "### **ad_publikation-20231128** : "
   ]
  },
  {
   "cell_type": "markdown",
   "metadata": {},
   "source": [
    "#### Content: \n",
    "List of Journals where a Meldung was published. "
   ]
  },
  {
   "cell_type": "markdown",
   "metadata": {},
   "source": [
    "#### Length:"
   ]
  },
  {
   "cell_type": "code",
   "execution_count": 23,
   "metadata": {},
   "outputs": [
    {
     "name": "stdout",
     "output_type": "stream",
     "text": [
      "Length of ad_publikation-20231128: 460 rows\n"
     ]
    }
   ],
   "source": [
    "print('Length of ad_publikation-20231128:', len(dfs['ad_publikation-20231128']), 'rows')"
   ]
  },
  {
   "cell_type": "markdown",
   "metadata": {},
   "source": [
    "#### Data overview:"
   ]
  },
  {
   "cell_type": "code",
   "execution_count": 24,
   "metadata": {},
   "outputs": [
    {
     "name": "stdout",
     "output_type": "stream",
     "text": [
      "   id                                              titel  \\\n",
      "0   1                                                NZZ   \n",
      "1   6                                              Blick   \n",
      "2   7               The New England Journal of Medicine    \n",
      "3   8  International Journal of Behavioral Nutrition ...   \n",
      "4   9      London School of Hygiene & Tropical Medicine    \n",
      "\n",
      "             abkuerzung  deaktiviert             erf_date  erf_user  \\\n",
      "0                   NZZ        False  08.08.2022 20:05:21        -1   \n",
      "1                 Blick        False  11.08.2022 07:43:00        84   \n",
      "2             NEnglJMed        False  11.08.2022 07:44:28        84   \n",
      "3  IntJBehavNutrPhysAct        False  12.08.2022 07:19:30        84   \n",
      "4                 LSHTM        False  12.08.2022 07:21:27        84   \n",
      "\n",
      "              mut_date  mut_user  version  \n",
      "0  08.08.2022 20:05:21        -1        0  \n",
      "1  11.08.2022 07:43:00        84        0  \n",
      "2  01.09.2022 11:26:02        36        3  \n",
      "3  01.09.2022 11:25:28        36        1  \n",
      "4  12.08.2022 07:21:27        84        0  \n"
     ]
    }
   ],
   "source": [
    "print(dfs['ad_publikation-20231128'].head())"
   ]
  },
  {
   "cell_type": "markdown",
   "metadata": {},
   "source": [
    "#### Data types:"
   ]
  },
  {
   "cell_type": "code",
   "execution_count": 25,
   "metadata": {},
   "outputs": [
    {
     "name": "stdout",
     "output_type": "stream",
     "text": [
      "id              int64\n",
      "titel          object\n",
      "abkuerzung     object\n",
      "deaktiviert      bool\n",
      "erf_date       object\n",
      "erf_user        int64\n",
      "mut_date       object\n",
      "mut_user        int64\n",
      "version         int64\n",
      "dtype: object\n"
     ]
    }
   ],
   "source": [
    "print(dfs['ad_publikation-20231128'].dtypes)"
   ]
  },
  {
   "cell_type": "markdown",
   "metadata": {},
   "source": [
    "'erf_date' and 'mut_date' to datetime type"
   ]
  },
  {
   "cell_type": "markdown",
   "metadata": {},
   "source": [
    "##### Data transformation"
   ]
  },
  {
   "cell_type": "code",
   "execution_count": 26,
   "metadata": {},
   "outputs": [
    {
     "name": "stdout",
     "output_type": "stream",
     "text": [
      "id                      int64\n",
      "titel                  object\n",
      "abkuerzung             object\n",
      "deaktiviert              bool\n",
      "erf_date       datetime64[ns]\n",
      "erf_user                int64\n",
      "mut_date       datetime64[ns]\n",
      "mut_user                int64\n",
      "version                 int64\n",
      "dtype: object\n"
     ]
    }
   ],
   "source": [
    "dfs['ad_publikation-20231128'].mut_date = pd.to_datetime(dfs['ad_publikation-20231128'].mut_date, format='%d.%m.%Y %H:%M:%S')\n",
    "dfs['ad_publikation-20231128'].erf_date = pd.to_datetime(dfs['ad_publikation-20231128'].erf_date, format='%d.%m.%Y %H:%M:%S')\n",
    "\n",
    "print(dfs['ad_publikation-20231128'].dtypes)"
   ]
  },
  {
   "cell_type": "markdown",
   "metadata": {},
   "source": [
    "#### Important columns:"
   ]
  },
  {
   "cell_type": "markdown",
   "metadata": {},
   "source": [
    "To be published:\n",
    "- titel\n",
    "- erf_date\n",
    "- mut_date\n",
    "\n",
    "Need to be used:\n",
    "- id"
   ]
  },
  {
   "cell_type": "markdown",
   "metadata": {},
   "source": [
    "### **ad_document-20231128** : "
   ]
  },
  {
   "cell_type": "markdown",
   "metadata": {},
   "source": [
    "#### Content:\n",
    "Names and IDs of documents"
   ]
  },
  {
   "cell_type": "markdown",
   "metadata": {},
   "source": [
    "#### Length:"
   ]
  },
  {
   "cell_type": "code",
   "execution_count": 27,
   "metadata": {},
   "outputs": [
    {
     "name": "stdout",
     "output_type": "stream",
     "text": [
      "Length of ad_document-20231128: 146 rows\n"
     ]
    }
   ],
   "source": [
    "print('Length of ad_document-20231128:', len(dfs['ad_document-20231128']), 'rows')"
   ]
  },
  {
   "cell_type": "markdown",
   "metadata": {},
   "source": [
    "#### Data overview:"
   ]
  },
  {
   "cell_type": "code",
   "execution_count": 28,
   "metadata": {},
   "outputs": [
    {
     "name": "stdout",
     "output_type": "stream",
     "text": [
      "   id                                               name        mime_type  \\\n",
      "0   1  A Zoonotic Henipavirus in Febrile Patients in ...  application/pdf   \n",
      "1   2  Briefing Letter Anisakis spp - ein Parasit mit...  application/pdf   \n",
      "2   3  Briefing Letter Anisakis spp - une parasitose ...  application/pdf   \n",
      "3   4  Briefing Letter Cannabidiol (CBD) in Lebensmit...  application/pdf   \n",
      "4   6                                Zoonosebericht 2018  application/pdf   \n",
      "\n",
      "  extension  autorisierung           data  steckbrief_id             erf_date  \\\n",
      "0       pdf             20  System.Byte[]            207  11.08.2022 08:56:37   \n",
      "1       pdf             10  System.Byte[]            116  17.08.2022 12:50:15   \n",
      "2       pdf             10  System.Byte[]            116  19.08.2022 10:07:15   \n",
      "3       pdf             10  System.Byte[]             93  19.08.2022 17:35:10   \n",
      "4       pdf             20  System.Byte[]             33  20.08.2022 12:06:03   \n",
      "\n",
      "   erf_user             mut_date  mut_user  version  \n",
      "0        84  11.08.2022 08:56:37        84        0  \n",
      "1       860  17.08.2022 12:50:15       860        0  \n",
      "2       860  19.08.2022 10:07:15       860        0  \n",
      "3       860  19.08.2022 17:35:10       860        0  \n",
      "4       860  20.08.2022 12:06:03       860        0  \n"
     ]
    }
   ],
   "source": [
    "print(dfs['ad_document-20231128'].head())"
   ]
  },
  {
   "cell_type": "markdown",
   "metadata": {},
   "source": [
    "#### Data types:"
   ]
  },
  {
   "cell_type": "code",
   "execution_count": 29,
   "metadata": {},
   "outputs": [
    {
     "name": "stdout",
     "output_type": "stream",
     "text": [
      "id                int64\n",
      "name             object\n",
      "mime_type        object\n",
      "extension        object\n",
      "autorisierung     int64\n",
      "data             object\n",
      "steckbrief_id     int64\n",
      "erf_date         object\n",
      "erf_user          int64\n",
      "mut_date         object\n",
      "mut_user          int64\n",
      "version           int64\n",
      "dtype: object\n"
     ]
    }
   ],
   "source": [
    "print(dfs['ad_document-20231128'].dtypes)"
   ]
  },
  {
   "cell_type": "markdown",
   "metadata": {},
   "source": [
    "'erf_date' and 'mut_date' to datetime type"
   ]
  },
  {
   "cell_type": "markdown",
   "metadata": {},
   "source": [
    "##### Data transformation"
   ]
  },
  {
   "cell_type": "code",
   "execution_count": 30,
   "metadata": {},
   "outputs": [
    {
     "name": "stdout",
     "output_type": "stream",
     "text": [
      "id                        int64\n",
      "name                     object\n",
      "mime_type                object\n",
      "extension                object\n",
      "autorisierung             int64\n",
      "data                     object\n",
      "steckbrief_id             int64\n",
      "erf_date         datetime64[ns]\n",
      "erf_user                  int64\n",
      "mut_date         datetime64[ns]\n",
      "mut_user                  int64\n",
      "version                   int64\n",
      "dtype: object\n"
     ]
    }
   ],
   "source": [
    "dfs['ad_document-20231128'].mut_date = pd.to_datetime(dfs['ad_document-20231128'].mut_date, format='%d.%m.%Y %H:%M:%S')\n",
    "dfs['ad_document-20231128'].erf_date = pd.to_datetime(dfs['ad_document-20231128'].erf_date, format='%d.%m.%Y %H:%M:%S')\n",
    "\n",
    "print(dfs['ad_document-20231128'].dtypes)"
   ]
  },
  {
   "cell_type": "markdown",
   "metadata": {},
   "source": [
    "#### Important columns:"
   ]
  },
  {
   "cell_type": "markdown",
   "metadata": {},
   "source": [
    "To be published:\n",
    "- name\n",
    "- data\n",
    "- erf_date\n",
    "- mut_date\n",
    "\n",
    "Need to be used:\n",
    "- id\n",
    "- steckbrief_id\n",
    "- autorisierung"
   ]
  },
  {
   "cell_type": "markdown",
   "metadata": {},
   "source": [
    "### **ad_beurteilung-20231128** : "
   ]
  },
  {
   "cell_type": "markdown",
   "metadata": {},
   "source": [
    "#### Content:\n",
    "Evaluation of risks for each Steckbrief"
   ]
  },
  {
   "cell_type": "markdown",
   "metadata": {},
   "source": [
    "#### Length:"
   ]
  },
  {
   "cell_type": "code",
   "execution_count": 31,
   "metadata": {},
   "outputs": [
    {
     "name": "stdout",
     "output_type": "stream",
     "text": [
      "Length of ad_beurteilung-20231128: 386 rows\n"
     ]
    }
   ],
   "source": [
    "print('Length of ad_beurteilung-20231128:', len(dfs['ad_beurteilung-20231128']), 'rows')"
   ]
  },
  {
   "cell_type": "markdown",
   "metadata": {},
   "source": [
    "#### Data overview:"
   ]
  },
  {
   "cell_type": "code",
   "execution_count": 32,
   "metadata": {},
   "outputs": [
    {
     "name": "stdout",
     "output_type": "stream",
     "text": [
      "   id  type                 date  \\\n",
      "0   1    10  21.10.2019 00:00:00   \n",
      "1   3    10  09.12.2019 00:00:00   \n",
      "2   4    10  11.07.2019 00:00:00   \n",
      "3   5    10  30.01.2020 00:00:00   \n",
      "4   6    10  12.05.2021 00:00:00   \n",
      "\n",
      "                                                text  steckbrief_id  \\\n",
      "0  <p>The Nipah virus is endemic in Southeast Asi...             71   \n",
      "1  <p>Possible risks are conceivable when importi...             90   \n",
      "2  <p>A significant proportion of young Swiss men...             54   \n",
      "3  <p>Raw fish is also consumed in Switzerland in...             92   \n",
      "4  <p>Omega-3 fish oil capsules are also availabl...            137   \n",
      "\n",
      "              erf_date  erf_user             mut_date  mut_user  version  \n",
      "0  21.10.2019 00:00:00      -100  15.09.2022 12:20:20       860        1  \n",
      "1  09.12.2019 00:00:00      -100  19.09.2022 10:00:18       860        1  \n",
      "2  11.07.2019 00:00:00      -100  15.09.2022 16:51:07       860        1  \n",
      "3  03.01.2020 00:00:00      -100  15.09.2022 16:08:51       860        1  \n",
      "4  12.05.2021 00:00:00      -100  12.09.2022 11:03:19       860        1  \n"
     ]
    }
   ],
   "source": [
    "print(dfs['ad_beurteilung-20231128'].head())"
   ]
  },
  {
   "cell_type": "markdown",
   "metadata": {},
   "source": [
    "#### Data types:"
   ]
  },
  {
   "cell_type": "code",
   "execution_count": 33,
   "metadata": {},
   "outputs": [
    {
     "name": "stdout",
     "output_type": "stream",
     "text": [
      "id                int64\n",
      "type              int64\n",
      "date             object\n",
      "text             object\n",
      "steckbrief_id     int64\n",
      "erf_date         object\n",
      "erf_user          int64\n",
      "mut_date         object\n",
      "mut_user          int64\n",
      "version           int64\n",
      "dtype: object\n"
     ]
    }
   ],
   "source": [
    "print(dfs['ad_beurteilung-20231128'].dtypes)"
   ]
  },
  {
   "cell_type": "markdown",
   "metadata": {},
   "source": [
    "'date', 'erf_data' and 'mut_date' can be changed to datetime type "
   ]
  },
  {
   "cell_type": "markdown",
   "metadata": {},
   "source": [
    "##### Data transformation"
   ]
  },
  {
   "cell_type": "code",
   "execution_count": 34,
   "metadata": {},
   "outputs": [
    {
     "name": "stdout",
     "output_type": "stream",
     "text": [
      "id                        int64\n",
      "type                      int64\n",
      "date             datetime64[ns]\n",
      "text                     object\n",
      "steckbrief_id             int64\n",
      "erf_date         datetime64[ns]\n",
      "erf_user                  int64\n",
      "mut_date         datetime64[ns]\n",
      "mut_user                  int64\n",
      "version                   int64\n",
      "dtype: object\n"
     ]
    }
   ],
   "source": [
    "dfs['ad_beurteilung-20231128'].date = pd.to_datetime(dfs['ad_beurteilung-20231128'].date, format='%d.%m.%Y %H:%M:%S')\n",
    "dfs['ad_beurteilung-20231128'].erf_date = pd.to_datetime(dfs['ad_beurteilung-20231128'].erf_date, format='%d.%m.%Y %H:%M:%S')\n",
    "dfs['ad_beurteilung-20231128'].mut_date = pd.to_datetime(dfs['ad_beurteilung-20231128'].mut_date, format='%d.%m.%Y %H:%M:%S')\n",
    "\n",
    "\n",
    "print(dfs['ad_beurteilung-20231128'].dtypes)"
   ]
  },
  {
   "cell_type": "markdown",
   "metadata": {},
   "source": [
    "### **ad_treiber-20231128** : "
   ]
  },
  {
   "cell_type": "markdown",
   "metadata": {},
   "source": [
    "#### Content:\n",
    "General Topics linked to the Meldung"
   ]
  },
  {
   "cell_type": "markdown",
   "metadata": {},
   "source": [
    "#### Length:"
   ]
  },
  {
   "cell_type": "code",
   "execution_count": 35,
   "metadata": {},
   "outputs": [
    {
     "name": "stdout",
     "output_type": "stream",
     "text": [
      "Length of ad_treiber-20231128: 13 rows\n"
     ]
    }
   ],
   "source": [
    "print('Length of ad_treiber-20231128:', len(dfs['ad_treiber-20231128']), 'rows')"
   ]
  },
  {
   "cell_type": "markdown",
   "metadata": {},
   "source": [
    "#### Data overview:"
   ]
  },
  {
   "cell_type": "code",
   "execution_count": 36,
   "metadata": {},
   "outputs": [
    {
     "name": "stdout",
     "output_type": "stream",
     "text": [
      "   id                                     bezeichnung_de  \\\n",
      "0   1                                        Klimawandel   \n",
      "1   2  Technologische Innovationen und wissenschaftli...   \n",
      "2   3            Verstädterung und urbane Landwirtschaft   \n",
      "3   4                                Kreislaufwirtschaft   \n",
      "4   5              Mikrobiome und Lebensmittelsicherheit   \n",
      "\n",
      "                                      bezeichnung_en  \\\n",
      "0                                     Climate change   \n",
      "1  Technological innovations and scientific advances   \n",
      "2                 Urbanization and urban agriculture   \n",
      "3                                   Circular economy   \n",
      "4                        Microbiomes and food safety   \n",
      "\n",
      "                                      bezeichnung_fr  \\\n",
      "0                              Changement climatique   \n",
      "1  Innovations technologiques et progrès scientif...   \n",
      "2                Urbanisation et agriculture urbaine   \n",
      "3                                Économie circulaire   \n",
      "4                Microbiomes et sécurité alimentaire   \n",
      "\n",
      "                                     bezeichnung_it  deaktiviert  \\\n",
      "0                             Cambiamento climatico        False   \n",
      "1  Innovazioni tecnologiche e progressi scientifici        False   \n",
      "2               Urbanizzazione e agricoltura urbana        False   \n",
      "3                                Economie circolare        False   \n",
      "4                 Microbiomi e sicurezza alimentare        False   \n",
      "\n",
      "              erf_date  erf_user             mut_date  mut_user  version  \n",
      "0  08.08.2022 20:05:21        -1  08.08.2022 20:05:21        -1        0  \n",
      "1  08.08.2022 20:05:21        -1  08.08.2022 20:05:21        -1        0  \n",
      "2  08.08.2022 20:05:21        -1  08.08.2022 20:05:21        -1        0  \n",
      "3  08.08.2022 20:05:21        -1  08.08.2022 20:05:21        -1        0  \n",
      "4  08.08.2022 20:05:21        -1  08.08.2022 20:05:21        -1        0  \n"
     ]
    }
   ],
   "source": [
    "print(dfs['ad_treiber-20231128'].head())"
   ]
  },
  {
   "cell_type": "markdown",
   "metadata": {},
   "source": [
    "#### Data types:"
   ]
  },
  {
   "cell_type": "code",
   "execution_count": 37,
   "metadata": {},
   "outputs": [
    {
     "name": "stdout",
     "output_type": "stream",
     "text": [
      "id                 int64\n",
      "bezeichnung_de    object\n",
      "bezeichnung_en    object\n",
      "bezeichnung_fr    object\n",
      "bezeichnung_it    object\n",
      "deaktiviert         bool\n",
      "erf_date          object\n",
      "erf_user           int64\n",
      "mut_date          object\n",
      "mut_user           int64\n",
      "version            int64\n",
      "dtype: object\n"
     ]
    }
   ],
   "source": [
    "print(dfs['ad_treiber-20231128'].dtypes)"
   ]
  },
  {
   "cell_type": "markdown",
   "metadata": {},
   "source": [
    "'erf_data' and 'mut_date' can be changed to datetime type "
   ]
  },
  {
   "cell_type": "markdown",
   "metadata": {},
   "source": [
    "##### Data transformation"
   ]
  },
  {
   "cell_type": "code",
   "execution_count": 38,
   "metadata": {},
   "outputs": [
    {
     "name": "stdout",
     "output_type": "stream",
     "text": [
      "id                         int64\n",
      "bezeichnung_de            object\n",
      "bezeichnung_en            object\n",
      "bezeichnung_fr            object\n",
      "bezeichnung_it            object\n",
      "deaktiviert                 bool\n",
      "erf_date          datetime64[ns]\n",
      "erf_user                   int64\n",
      "mut_date          datetime64[ns]\n",
      "mut_user                   int64\n",
      "version                    int64\n",
      "dtype: object\n"
     ]
    }
   ],
   "source": [
    "dfs['ad_treiber-20231128'].mut_date = pd.to_datetime(dfs['ad_treiber-20231128'].mut_date, format='%d.%m.%Y %H:%M:%S')\n",
    "dfs['ad_treiber-20231128'].erf_date = pd.to_datetime(dfs['ad_treiber-20231128'].erf_date, format='%d.%m.%Y %H:%M:%S')\n",
    "\n",
    "print(dfs['ad_treiber-20231128'].dtypes)"
   ]
  },
  {
   "cell_type": "markdown",
   "metadata": {},
   "source": [
    "### **ad_matrix-20231128** : "
   ]
  },
  {
   "cell_type": "markdown",
   "metadata": {},
   "source": [
    "#### Content :\n",
    "Where the problem has been detected, in which food, animal, ..."
   ]
  },
  {
   "cell_type": "markdown",
   "metadata": {},
   "source": [
    "#### Length:"
   ]
  },
  {
   "cell_type": "code",
   "execution_count": 39,
   "metadata": {},
   "outputs": [
    {
     "name": "stdout",
     "output_type": "stream",
     "text": [
      "Length of ad_matrix-20231128: 157 rows\n"
     ]
    }
   ],
   "source": [
    "print('Length of ad_matrix-20231128:', len(dfs['ad_matrix-20231128']), 'rows')"
   ]
  },
  {
   "cell_type": "markdown",
   "metadata": {},
   "source": [
    "#### Data overview:"
   ]
  },
  {
   "cell_type": "code",
   "execution_count": 40,
   "metadata": {},
   "outputs": [
    {
     "name": "stdout",
     "output_type": "stream",
     "text": [
      "   id                                     bezeichnung_de  \\\n",
      "0   1                                 Nicht spezifiziert   \n",
      "1   2  Kartoffeln und andere stärkehaltige Wurzelknollen   \n",
      "2   3                                             Gemüse   \n",
      "3   4                         Hülsenfrüchte (getrocknet)   \n",
      "4   5                           Früchte, Nüsse und Samen   \n",
      "\n",
      "              bezeichnung_en                                  bezeichnung_fr  \\\n",
      "0               Unclassified                                    Non spécifié   \n",
      "1  Potatoes And Other Tubers  Pommes de terre et autres tubercules féculents   \n",
      "2                 Vegetables                                         Légumes   \n",
      "3                    Legumes                                    Légumes secs   \n",
      "4     Fruits, Nuts And Seeds            Fruits, fruits oléagineux et graines   \n",
      "\n",
      "                     bezeichnung_it  parent_id sortierung  \\\n",
      "0                   Non specificato        NaN         00   \n",
      "1    Patate e altri tuberi amidacei        NaN         01   \n",
      "2                           Ortaggi        NaN         02   \n",
      "3                        Leguminose        NaN         03   \n",
      "4  Frutta, frutta oleaginosa e semi        NaN         04   \n",
      "\n",
      "              erf_date  erf_user             mut_date  mut_user  version  \n",
      "0  08.08.2022 20:05:21        -1  08.08.2022 20:05:21        -1        0  \n",
      "1  08.08.2022 20:05:21        -1  08.08.2022 20:05:21        -1        0  \n",
      "2  08.08.2022 20:05:21        -1  08.08.2022 20:05:21        -1        0  \n",
      "3  08.08.2022 20:05:21        -1  08.08.2022 20:05:21        -1        0  \n",
      "4  08.08.2022 20:05:21        -1  08.08.2022 20:05:21        -1        0  \n"
     ]
    }
   ],
   "source": [
    "print(dfs['ad_matrix-20231128'].head())"
   ]
  },
  {
   "cell_type": "markdown",
   "metadata": {},
   "source": [
    "#### Data types:"
   ]
  },
  {
   "cell_type": "code",
   "execution_count": 41,
   "metadata": {},
   "outputs": [
    {
     "name": "stdout",
     "output_type": "stream",
     "text": [
      "id                  int64\n",
      "bezeichnung_de     object\n",
      "bezeichnung_en     object\n",
      "bezeichnung_fr     object\n",
      "bezeichnung_it     object\n",
      "parent_id         float64\n",
      "sortierung         object\n",
      "erf_date           object\n",
      "erf_user            int64\n",
      "mut_date           object\n",
      "mut_user            int64\n",
      "version             int64\n",
      "dtype: object\n"
     ]
    }
   ],
   "source": [
    "print(dfs['ad_matrix-20231128'].dtypes)"
   ]
  },
  {
   "cell_type": "markdown",
   "metadata": {},
   "source": [
    "'erf_date' and 'mut_date' can be changed to datetime type"
   ]
  },
  {
   "cell_type": "markdown",
   "metadata": {},
   "source": [
    "##### Data transformation"
   ]
  },
  {
   "cell_type": "code",
   "execution_count": 42,
   "metadata": {},
   "outputs": [
    {
     "name": "stdout",
     "output_type": "stream",
     "text": [
      "id                         int64\n",
      "bezeichnung_de            object\n",
      "bezeichnung_en            object\n",
      "bezeichnung_fr            object\n",
      "bezeichnung_it            object\n",
      "parent_id                float64\n",
      "sortierung                object\n",
      "erf_date          datetime64[ns]\n",
      "erf_user                   int64\n",
      "mut_date          datetime64[ns]\n",
      "mut_user                   int64\n",
      "version                    int64\n",
      "dtype: object\n"
     ]
    }
   ],
   "source": [
    "dfs['ad_matrix-20231128'].mut_date = pd.to_datetime(dfs['ad_matrix-20231128'].mut_date, format='%d.%m.%Y %H:%M:%S')\n",
    "dfs['ad_matrix-20231128'].erf_date = pd.to_datetime(dfs['ad_matrix-20231128'].erf_date, format='%d.%m.%Y %H:%M:%S')\n",
    "\n",
    "print(dfs['ad_matrix-20231128'].dtypes)"
   ]
  },
  {
   "cell_type": "markdown",
   "metadata": {},
   "source": [
    "#### Important columns:"
   ]
  },
  {
   "cell_type": "markdown",
   "metadata": {},
   "source": [
    "To be published:\n",
    "- bezeichnung_de\n",
    "- bezeichnung_en\n",
    "- bezeichnung_fr\n",
    "- bezeichnung_it\n",
    "- erf_date\n",
    "- mut_date\n",
    "\n",
    "Need to be used:\n",
    "- id"
   ]
  },
  {
   "cell_type": "markdown",
   "metadata": {},
   "source": [
    "### **ad_log-20231128**:"
   ]
  },
  {
   "cell_type": "markdown",
   "metadata": {},
   "source": [
    "#### Content: \n",
    "List of Changes in Database"
   ]
  },
  {
   "cell_type": "markdown",
   "metadata": {},
   "source": [
    "#### Length:"
   ]
  },
  {
   "cell_type": "code",
   "execution_count": 43,
   "metadata": {},
   "outputs": [
    {
     "name": "stdout",
     "output_type": "stream",
     "text": [
      "Length of ad_log-20231128: 7162 rows\n"
     ]
    }
   ],
   "source": [
    "print('Length of ad_log-20231128:', len(dfs['ad_log-20231128']), 'rows')"
   ]
  },
  {
   "cell_type": "markdown",
   "metadata": {},
   "source": [
    "#### Data overview:"
   ]
  },
  {
   "cell_type": "code",
   "execution_count": 44,
   "metadata": {},
   "outputs": [
    {
     "name": "stdout",
     "output_type": "stream",
     "text": [
      "   id parent_code  label                                            comment  \\\n",
      "0   1  F-2018-006     20  20.12.2018 frf/tlu Freigabe13.07.2022: (tlu) L...   \n",
      "1   2  F-2018-007     20  20.12.2018 tlu/frf Freigabe28.04.2022 (tlu) Li...   \n",
      "2   3  F-2018-008     20  20.12.2018 tlu/frf Freigabe8.7.2019: (tlu) Lit...   \n",
      "3   4  F-2018-020     20  20.12.2018 Freigabe tlu/frf26.8.2019 Literatur...   \n",
      "4   5  F-2018-021     20  20.12.2018 tlu/frf Freigabe16.09.2020 Literatu...   \n",
      "\n",
      "             timestamp  person_id  \n",
      "0  08.08.2022 20:05:24     -100.0  \n",
      "1  08.08.2022 20:05:24     -100.0  \n",
      "2  08.08.2022 20:05:24     -100.0  \n",
      "3  08.08.2022 20:05:24     -100.0  \n",
      "4  08.08.2022 20:05:24     -100.0  \n"
     ]
    }
   ],
   "source": [
    "print(dfs['ad_log-20231128'].head())"
   ]
  },
  {
   "cell_type": "markdown",
   "metadata": {},
   "source": [
    "#### Data types:"
   ]
  },
  {
   "cell_type": "code",
   "execution_count": 45,
   "metadata": {},
   "outputs": [
    {
     "name": "stdout",
     "output_type": "stream",
     "text": [
      "id               int64\n",
      "parent_code     object\n",
      "label            int64\n",
      "comment         object\n",
      "timestamp       object\n",
      "person_id      float64\n",
      "dtype: object\n"
     ]
    }
   ],
   "source": [
    "print(dfs['ad_log-20231128'].dtypes)"
   ]
  },
  {
   "cell_type": "markdown",
   "metadata": {},
   "source": [
    "The 'timestamp' column can be converted to Datatime type"
   ]
  },
  {
   "cell_type": "markdown",
   "metadata": {},
   "source": [
    "##### Data transformation"
   ]
  },
  {
   "cell_type": "code",
   "execution_count": 46,
   "metadata": {},
   "outputs": [
    {
     "name": "stdout",
     "output_type": "stream",
     "text": [
      "id                      int64\n",
      "parent_code            object\n",
      "label                   int64\n",
      "comment                object\n",
      "timestamp      datetime64[ns]\n",
      "person_id             float64\n",
      "dtype: object\n"
     ]
    }
   ],
   "source": [
    "dfs['ad_log-20231128'].timestamp = pd.to_datetime(dfs['ad_log-20231128'].timestamp, format='%d.%m.%Y %H:%M:%S')\n",
    "print(dfs['ad_log-20231128'].dtypes)"
   ]
  },
  {
   "cell_type": "markdown",
   "metadata": {},
   "source": [
    "### **ad_meldung_ad_treiber-20231128** : "
   ]
  },
  {
   "cell_type": "markdown",
   "metadata": {},
   "source": [
    "#### Content:\n",
    "Link between Meldung and treiber"
   ]
  },
  {
   "cell_type": "markdown",
   "metadata": {},
   "source": [
    "#### Length:"
   ]
  },
  {
   "cell_type": "code",
   "execution_count": 47,
   "metadata": {},
   "outputs": [
    {
     "name": "stdout",
     "output_type": "stream",
     "text": [
      "Length of ad_meldung_ad_treiber-20231128: 517 rows\n"
     ]
    }
   ],
   "source": [
    "print('Length of ad_meldung_ad_treiber-20231128:', len(dfs['ad_meldung_ad_treiber-20231128']), 'rows')"
   ]
  },
  {
   "cell_type": "markdown",
   "metadata": {},
   "source": [
    "#### Data overview:"
   ]
  },
  {
   "cell_type": "code",
   "execution_count": 48,
   "metadata": {},
   "outputs": [
    {
     "name": "stdout",
     "output_type": "stream",
     "text": [
      "   meldung_id  treiber_id\n",
      "0           1           7\n",
      "1         147           2\n",
      "2          17           8\n",
      "3          20           8\n",
      "4          30           7\n"
     ]
    }
   ],
   "source": [
    "print(dfs['ad_meldung_ad_treiber-20231128'].head())"
   ]
  },
  {
   "cell_type": "markdown",
   "metadata": {},
   "source": [
    "#### Data types:"
   ]
  },
  {
   "cell_type": "code",
   "execution_count": 49,
   "metadata": {},
   "outputs": [
    {
     "name": "stdout",
     "output_type": "stream",
     "text": [
      "meldung_id    int64\n",
      "treiber_id    int64\n",
      "dtype: object\n"
     ]
    }
   ],
   "source": [
    "print(dfs['ad_meldung_ad_treiber-20231128'].dtypes)"
   ]
  },
  {
   "cell_type": "markdown",
   "metadata": {},
   "source": [
    "### **ad_steckbrief_ad_bereich-20231128** : "
   ]
  },
  {
   "cell_type": "markdown",
   "metadata": {},
   "source": [
    "#### Content:\n",
    "Link between Steckbrief and Bereich"
   ]
  },
  {
   "cell_type": "markdown",
   "metadata": {},
   "source": [
    "#### Length:"
   ]
  },
  {
   "cell_type": "code",
   "execution_count": 50,
   "metadata": {},
   "outputs": [
    {
     "name": "stdout",
     "output_type": "stream",
     "text": [
      "Length of ad_steckbrief_ad_bereich-20231128: 335 rows\n"
     ]
    }
   ],
   "source": [
    "print('Length of ad_steckbrief_ad_bereich-20231128:', len(dfs['ad_steckbrief_ad_bereich-20231128']), 'rows')"
   ]
  },
  {
   "cell_type": "markdown",
   "metadata": {},
   "source": [
    "#### Data overview:"
   ]
  },
  {
   "cell_type": "code",
   "execution_count": 51,
   "metadata": {},
   "outputs": [
    {
     "name": "stdout",
     "output_type": "stream",
     "text": [
      "   steckbrief_id  bereich_id  primaer\n",
      "0            161           2     True\n",
      "1             65           4     True\n",
      "2             33           1     True\n",
      "3            177           2     True\n",
      "4             12           1     True\n"
     ]
    }
   ],
   "source": [
    "print(dfs['ad_steckbrief_ad_bereich-20231128'].head())"
   ]
  },
  {
   "cell_type": "markdown",
   "metadata": {},
   "source": [
    "#### Data types:"
   ]
  },
  {
   "cell_type": "code",
   "execution_count": 52,
   "metadata": {},
   "outputs": [
    {
     "name": "stdout",
     "output_type": "stream",
     "text": [
      "steckbrief_id    int64\n",
      "bereich_id       int64\n",
      "primaer           bool\n",
      "dtype: object\n"
     ]
    }
   ],
   "source": [
    "print(dfs['ad_steckbrief_ad_bereich-20231128'].dtypes)"
   ]
  },
  {
   "cell_type": "markdown",
   "metadata": {},
   "source": [
    "#### Important columns:"
   ]
  },
  {
   "cell_type": "markdown",
   "metadata": {},
   "source": [
    "Need to be used:\n",
    "- steckbrief_id\n",
    "- bereich_id"
   ]
  },
  {
   "cell_type": "markdown",
   "metadata": {},
   "source": [
    "### **ad_steckbrief_ad_matrix-20231128** : "
   ]
  },
  {
   "cell_type": "markdown",
   "metadata": {},
   "source": [
    "#### Content:\n",
    "Link between Steckbrief and Matrix"
   ]
  },
  {
   "cell_type": "markdown",
   "metadata": {},
   "source": [
    "#### Length:"
   ]
  },
  {
   "cell_type": "code",
   "execution_count": 53,
   "metadata": {},
   "outputs": [
    {
     "name": "stdout",
     "output_type": "stream",
     "text": [
      "Length of ad_steckbrief_ad_matrix-20231128: 183 rows\n"
     ]
    }
   ],
   "source": [
    "print('Length of ad_steckbrief_ad_matrix-20231128:', len(dfs['ad_steckbrief_ad_matrix-20231128']), 'rows')"
   ]
  },
  {
   "cell_type": "markdown",
   "metadata": {},
   "source": [
    "#### Data overview:"
   ]
  },
  {
   "cell_type": "code",
   "execution_count": 54,
   "metadata": {},
   "outputs": [
    {
     "name": "stdout",
     "output_type": "stream",
     "text": [
      "    id  steckbrief_id  matrix_id           ergaenzung\n",
      "0  160            205         16  basil, fennel seeds\n",
      "1  162            166          1           table salt\n",
      "2  168             81         34               apples\n",
      "3  173            136          6                  NaN\n",
      "4  176            109          1                  soy\n"
     ]
    }
   ],
   "source": [
    "print(dfs['ad_steckbrief_ad_matrix-20231128'].head())"
   ]
  },
  {
   "cell_type": "markdown",
   "metadata": {},
   "source": [
    "#### Data types:"
   ]
  },
  {
   "cell_type": "code",
   "execution_count": 55,
   "metadata": {},
   "outputs": [
    {
     "name": "stdout",
     "output_type": "stream",
     "text": [
      "id                int64\n",
      "steckbrief_id     int64\n",
      "matrix_id         int64\n",
      "ergaenzung       object\n",
      "dtype: object\n"
     ]
    }
   ],
   "source": [
    "print(dfs['ad_steckbrief_ad_matrix-20231128'].dtypes)"
   ]
  },
  {
   "cell_type": "markdown",
   "metadata": {},
   "source": [
    "#### Important columns:"
   ]
  },
  {
   "cell_type": "markdown",
   "metadata": {},
   "source": [
    "Need to be used:\n",
    "- steckbrief_id\n",
    "- matrix_id"
   ]
  },
  {
   "cell_type": "markdown",
   "metadata": {},
   "source": [
    "### **ad_meldung_ad_gefahr-20231128** : "
   ]
  },
  {
   "cell_type": "markdown",
   "metadata": {},
   "source": [
    "#### Content:\n",
    "Link between Meldung and Gefahr"
   ]
  },
  {
   "cell_type": "markdown",
   "metadata": {},
   "source": [
    "#### Length:"
   ]
  },
  {
   "cell_type": "code",
   "execution_count": 56,
   "metadata": {},
   "outputs": [
    {
     "name": "stdout",
     "output_type": "stream",
     "text": [
      "Length of ad_meldung_ad_gefahr-20231128: 808 rows\n"
     ]
    }
   ],
   "source": [
    "print('Length of ad_meldung_ad_gefahr-20231128:', len(dfs['ad_meldung_ad_gefahr-20231128']), 'rows')"
   ]
  },
  {
   "cell_type": "markdown",
   "metadata": {},
   "source": [
    "#### Data overview:"
   ]
  },
  {
   "cell_type": "code",
   "execution_count": 57,
   "metadata": {},
   "outputs": [
    {
     "name": "stdout",
     "output_type": "stream",
     "text": [
      "   meldung_id  gefahr_id\n",
      "0         129        150\n",
      "1          17         93\n",
      "2         144         10\n",
      "3          68        125\n",
      "4         179        188\n"
     ]
    }
   ],
   "source": [
    "print(dfs['ad_meldung_ad_gefahr-20231128'].head())"
   ]
  },
  {
   "cell_type": "markdown",
   "metadata": {},
   "source": [
    "#### Data types:"
   ]
  },
  {
   "cell_type": "code",
   "execution_count": 58,
   "metadata": {},
   "outputs": [
    {
     "name": "stdout",
     "output_type": "stream",
     "text": [
      "meldung_id    int64\n",
      "gefahr_id     int64\n",
      "dtype: object\n"
     ]
    }
   ],
   "source": [
    "print(dfs['ad_meldung_ad_gefahr-20231128'].dtypes)"
   ]
  },
  {
   "cell_type": "markdown",
   "metadata": {},
   "source": [
    "#### Important columns:"
   ]
  },
  {
   "cell_type": "markdown",
   "metadata": {},
   "source": [
    "Need to be used:\n",
    "- meldung_id\n",
    "- gefahr_id"
   ]
  },
  {
   "cell_type": "markdown",
   "metadata": {},
   "source": [
    "### **ad_meldung_ad_bereich-20231128** : "
   ]
  },
  {
   "cell_type": "markdown",
   "metadata": {},
   "source": [
    "#### Content:\n",
    "Link between Meldung and Bereich"
   ]
  },
  {
   "cell_type": "markdown",
   "metadata": {},
   "source": [
    "#### Length:"
   ]
  },
  {
   "cell_type": "code",
   "execution_count": 59,
   "metadata": {},
   "outputs": [
    {
     "name": "stdout",
     "output_type": "stream",
     "text": [
      "Length of ad_meldung_ad_bereich-20231128: 1156 rows\n"
     ]
    }
   ],
   "source": [
    "print('Length of ad_meldung_ad_bereich-20231128:', len(dfs['ad_meldung_ad_bereich-20231128']), 'rows')"
   ]
  },
  {
   "cell_type": "markdown",
   "metadata": {},
   "source": [
    "#### Data overview:"
   ]
  },
  {
   "cell_type": "code",
   "execution_count": 60,
   "metadata": {},
   "outputs": [
    {
     "name": "stdout",
     "output_type": "stream",
     "text": [
      "   meldung_id  bereich_id  primaer\n",
      "0          66           4     True\n",
      "1          28           1     True\n",
      "2         104           3     True\n",
      "3         148           1     True\n",
      "4          18           4    False\n"
     ]
    }
   ],
   "source": [
    "print(dfs['ad_meldung_ad_bereich-20231128'].head())"
   ]
  },
  {
   "cell_type": "markdown",
   "metadata": {},
   "source": [
    "#### Data types:"
   ]
  },
  {
   "cell_type": "code",
   "execution_count": 61,
   "metadata": {},
   "outputs": [
    {
     "name": "stdout",
     "output_type": "stream",
     "text": [
      "meldung_id    int64\n",
      "bereich_id    int64\n",
      "primaer        bool\n",
      "dtype: object\n"
     ]
    }
   ],
   "source": [
    "print(dfs['ad_meldung_ad_bereich-20231128'].dtypes)"
   ]
  },
  {
   "cell_type": "markdown",
   "metadata": {},
   "source": [
    "#### Important columns:"
   ]
  },
  {
   "cell_type": "markdown",
   "metadata": {},
   "source": [
    "Need to be used:\n",
    "- meldung_id\n",
    "- bereich_id"
   ]
  },
  {
   "cell_type": "markdown",
   "metadata": {},
   "source": [
    "### **ad_steckbrief_ad_gefahr-20231128** : "
   ]
  },
  {
   "cell_type": "markdown",
   "metadata": {},
   "source": [
    "#### Content:\n",
    "Link between Steckbrief and Gefahr"
   ]
  },
  {
   "cell_type": "markdown",
   "metadata": {},
   "source": [
    "#### Length:"
   ]
  },
  {
   "cell_type": "code",
   "execution_count": 62,
   "metadata": {},
   "outputs": [
    {
     "name": "stdout",
     "output_type": "stream",
     "text": [
      "Length of ad_steckbrief_ad_gefahr-20231128: 238 rows\n"
     ]
    }
   ],
   "source": [
    "print('Length of ad_steckbrief_ad_gefahr-20231128:', len(dfs['ad_steckbrief_ad_gefahr-20231128']), 'rows')"
   ]
  },
  {
   "cell_type": "markdown",
   "metadata": {},
   "source": [
    "#### Data overview:"
   ]
  },
  {
   "cell_type": "code",
   "execution_count": 63,
   "metadata": {},
   "outputs": [
    {
     "name": "stdout",
     "output_type": "stream",
     "text": [
      "   steckbrief_id  gefahr_id\n",
      "0             54        169\n",
      "1             13          7\n",
      "2            195         63\n",
      "3              2        159\n",
      "4              6        147\n"
     ]
    }
   ],
   "source": [
    "print(dfs['ad_steckbrief_ad_gefahr-20231128'].head())"
   ]
  },
  {
   "cell_type": "markdown",
   "metadata": {},
   "source": [
    "#### Data types:"
   ]
  },
  {
   "cell_type": "code",
   "execution_count": 64,
   "metadata": {},
   "outputs": [
    {
     "name": "stdout",
     "output_type": "stream",
     "text": [
      "steckbrief_id    int64\n",
      "gefahr_id        int64\n",
      "dtype: object\n"
     ]
    }
   ],
   "source": [
    "print(dfs['ad_steckbrief_ad_gefahr-20231128'].dtypes)"
   ]
  },
  {
   "cell_type": "markdown",
   "metadata": {},
   "source": [
    "#### Important columns:"
   ]
  },
  {
   "cell_type": "markdown",
   "metadata": {},
   "source": [
    "Need to be used:\n",
    "- steckbrief_id\n",
    "- gefahr_id"
   ]
  },
  {
   "cell_type": "markdown",
   "metadata": {},
   "source": [
    "### **ad_meldung_ad_steckbrief-20231128** : "
   ]
  },
  {
   "cell_type": "markdown",
   "metadata": {},
   "source": [
    "#### Content:\n",
    "Link between Meldung and Steckbrief"
   ]
  },
  {
   "cell_type": "markdown",
   "metadata": {},
   "source": [
    "#### Length:"
   ]
  },
  {
   "cell_type": "code",
   "execution_count": 65,
   "metadata": {},
   "outputs": [
    {
     "name": "stdout",
     "output_type": "stream",
     "text": [
      "Length of ad_meldung_ad_steckbrief-20231128: 561 rows\n"
     ]
    }
   ],
   "source": [
    "print('Length of ad_meldung_ad_steckbrief-20231128:', len(dfs['ad_meldung_ad_steckbrief-20231128']), 'rows')"
   ]
  },
  {
   "cell_type": "markdown",
   "metadata": {},
   "source": [
    "#### Data overview:"
   ]
  },
  {
   "cell_type": "code",
   "execution_count": 66,
   "metadata": {},
   "outputs": [
    {
     "name": "stdout",
     "output_type": "stream",
     "text": [
      "   meldung_id  steckbrief_id\n",
      "0           1            205\n",
      "1          30             95\n",
      "2          35            178\n",
      "3          51            205\n",
      "4          95              1\n"
     ]
    }
   ],
   "source": [
    "print(dfs['ad_meldung_ad_steckbrief-20231128'].head())"
   ]
  },
  {
   "cell_type": "markdown",
   "metadata": {},
   "source": [
    "#### Data types:"
   ]
  },
  {
   "cell_type": "code",
   "execution_count": 67,
   "metadata": {},
   "outputs": [
    {
     "name": "stdout",
     "output_type": "stream",
     "text": [
      "meldung_id       int64\n",
      "steckbrief_id    int64\n",
      "dtype: object\n"
     ]
    }
   ],
   "source": [
    "print(dfs['ad_meldung_ad_steckbrief-20231128'].dtypes)"
   ]
  },
  {
   "cell_type": "markdown",
   "metadata": {},
   "source": [
    "### **ad_meldung_ad_matrix-20231128** : "
   ]
  },
  {
   "cell_type": "markdown",
   "metadata": {},
   "source": [
    "#### Content:\n",
    "Link between Meldung and Matrix"
   ]
  },
  {
   "cell_type": "markdown",
   "metadata": {},
   "source": [
    "#### Length:"
   ]
  },
  {
   "cell_type": "code",
   "execution_count": 68,
   "metadata": {},
   "outputs": [
    {
     "name": "stdout",
     "output_type": "stream",
     "text": [
      "Length of ad_meldung_ad_matrix-20231128: 590 rows\n"
     ]
    }
   ],
   "source": [
    "print('Length of ad_meldung_ad_matrix-20231128:', len(dfs['ad_meldung_ad_matrix-20231128']), 'rows')"
   ]
  },
  {
   "cell_type": "markdown",
   "metadata": {},
   "source": [
    "#### Data overview:"
   ]
  },
  {
   "cell_type": "code",
   "execution_count": 69,
   "metadata": {},
   "outputs": [
    {
     "name": "stdout",
     "output_type": "stream",
     "text": [
      "    id  meldung_id  matrix_id             ergaenzung\n",
      "0   11           4          1   Ultraprocessed foods\n",
      "1   52          16         45      vanilla ice cream\n",
      "2   89          35         23           leafy greens\n",
      "3  178          42          1  food-contact surfaces\n",
      "4  183           1         20                    NaN\n"
     ]
    }
   ],
   "source": [
    "print(dfs['ad_meldung_ad_matrix-20231128'].head())"
   ]
  },
  {
   "cell_type": "markdown",
   "metadata": {},
   "source": [
    "#### Data types:"
   ]
  },
  {
   "cell_type": "code",
   "execution_count": 70,
   "metadata": {},
   "outputs": [
    {
     "name": "stdout",
     "output_type": "stream",
     "text": [
      "id             int64\n",
      "meldung_id     int64\n",
      "matrix_id      int64\n",
      "ergaenzung    object\n",
      "dtype: object\n"
     ]
    }
   ],
   "source": [
    "print(dfs['ad_meldung_ad_matrix-20231128'].dtypes)"
   ]
  },
  {
   "cell_type": "markdown",
   "metadata": {},
   "source": [
    "#### Important columns:"
   ]
  },
  {
   "cell_type": "markdown",
   "metadata": {},
   "source": [
    "Need to be used:\n",
    "- meldung_id\n",
    "- matrix_id"
   ]
  },
  {
   "cell_type": "markdown",
   "metadata": {},
   "source": [
    "### **ad_publikation_detail-20231128** : "
   ]
  },
  {
   "cell_type": "markdown",
   "metadata": {},
   "source": [
    "#### Content:\n",
    "Details of publication (date, page count, link, ...) and link between Meldung and publikation"
   ]
  },
  {
   "cell_type": "markdown",
   "metadata": {},
   "source": [
    "#### Length:"
   ]
  },
  {
   "cell_type": "code",
   "execution_count": 71,
   "metadata": {},
   "outputs": [
    {
     "name": "stdout",
     "output_type": "stream",
     "text": [
      "Length of ad_publikation_detail-20231128: 1503 rows\n"
     ]
    }
   ],
   "source": [
    "print('Length of ad_publikation_detail-20231128:', len(dfs['ad_publikation_detail-20231128']), 'rows')"
   ]
  },
  {
   "cell_type": "markdown",
   "metadata": {},
   "source": [
    "#### Data overview:"
   ]
  },
  {
   "cell_type": "code",
   "execution_count": 72,
   "metadata": {},
   "outputs": [
    {
     "name": "stdout",
     "output_type": "stream",
     "text": [
      "   id  type        date  page_count  \\\n",
      "0   1    10        2022         3.0   \n",
      "1   2    20         NaN         NaN   \n",
      "2   3    30         NaN         NaN   \n",
      "3   5    10  10.08.2022         2.0   \n",
      "4   6    20         NaN         NaN   \n",
      "\n",
      "                                                link  info  meldung_id  \\\n",
      "0                                                www   NaN           1   \n",
      "1                                                www   NaN           1   \n",
      "2                                                www  info           1   \n",
      "3  https://www.blick.ch/ausland/covid-aehnlicher-...   NaN           3   \n",
      "4  https://www.nejm.org/doi/full/10.1056/NEJMc220...   NaN           3   \n",
      "\n",
      "   publikation_id             erf_date  erf_user             mut_date  \\\n",
      "0             1.0  09.08.2022 16:30:29        33  09.08.2022 16:30:29   \n",
      "1             1.0  09.08.2022 16:30:29        33  09.08.2022 16:30:29   \n",
      "2             NaN  09.08.2022 16:30:29        33  09.08.2022 16:30:29   \n",
      "3             6.0  11.08.2022 07:50:36        84  11.08.2022 07:50:36   \n",
      "4             7.0  11.08.2022 07:50:36        84  11.08.2022 07:50:36   \n",
      "\n",
      "   mut_user  version  \n",
      "0        33        0  \n",
      "1        33        0  \n",
      "2        33        0  \n",
      "3        84        0  \n",
      "4        84        0  \n"
     ]
    }
   ],
   "source": [
    "print(dfs['ad_publikation_detail-20231128'].head())"
   ]
  },
  {
   "cell_type": "markdown",
   "metadata": {},
   "source": [
    "#### Data types:"
   ]
  },
  {
   "cell_type": "code",
   "execution_count": 73,
   "metadata": {},
   "outputs": [
    {
     "name": "stdout",
     "output_type": "stream",
     "text": [
      "id                  int64\n",
      "type                int64\n",
      "date               object\n",
      "page_count        float64\n",
      "link               object\n",
      "info               object\n",
      "meldung_id          int64\n",
      "publikation_id    float64\n",
      "erf_date           object\n",
      "erf_user            int64\n",
      "mut_date           object\n",
      "mut_user            int64\n",
      "version             int64\n",
      "dtype: object\n"
     ]
    }
   ],
   "source": [
    "print(dfs['ad_publikation_detail-20231128'].dtypes)"
   ]
  },
  {
   "cell_type": "markdown",
   "metadata": {},
   "source": [
    "'erf_date' and 'mut_date' to datetime type. 'date' can't be changed to datetime as it has different format (date, only year, ...)"
   ]
  },
  {
   "cell_type": "markdown",
   "metadata": {},
   "source": [
    "##### Data transformation"
   ]
  },
  {
   "cell_type": "code",
   "execution_count": 74,
   "metadata": {},
   "outputs": [
    {
     "name": "stdout",
     "output_type": "stream",
     "text": [
      "id                         int64\n",
      "type                       int64\n",
      "date                      object\n",
      "page_count               float64\n",
      "link                      object\n",
      "info                      object\n",
      "meldung_id                 int64\n",
      "publikation_id           float64\n",
      "erf_date          datetime64[ns]\n",
      "erf_user                   int64\n",
      "mut_date          datetime64[ns]\n",
      "mut_user                   int64\n",
      "version                    int64\n",
      "dtype: object\n"
     ]
    }
   ],
   "source": [
    "dfs['ad_publikation_detail-20231128'].mut_date = pd.to_datetime(dfs['ad_publikation_detail-20231128'].mut_date, format='%d.%m.%Y %H:%M:%S')\n",
    "dfs['ad_publikation_detail-20231128'].erf_date = pd.to_datetime(dfs['ad_publikation_detail-20231128'].erf_date, format='%d.%m.%Y %H:%M:%S')\n",
    "\n",
    "print(dfs['ad_publikation_detail-20231128'].dtypes)"
   ]
  },
  {
   "cell_type": "markdown",
   "metadata": {},
   "source": [
    "#### Important columns:"
   ]
  },
  {
   "cell_type": "markdown",
   "metadata": {},
   "source": [
    "To be published:\n",
    "- date\n",
    "- page_count\n",
    "- link\n",
    "- info\n",
    "- erf_date\n",
    "- mut_date\n",
    "\n",
    "Need to be used:\n",
    "- id\n",
    "- meldung_id\n",
    "- publikation_id"
   ]
  },
  {
   "cell_type": "markdown",
   "metadata": {},
   "source": [
    "### HTML parser"
   ]
  },
  {
   "cell_type": "markdown",
   "metadata": {},
   "source": [
    "Multiple text columns have html tags in their text. This can make the text less legible or 'uglier'. Therefore all the dataframes must be cleaned."
   ]
  },
  {
   "cell_type": "code",
   "execution_count": 75,
   "metadata": {},
   "outputs": [
    {
     "name": "stderr",
     "output_type": "stream",
     "text": [
      "/tmp/ipykernel_3012722/4221725846.py:4: MarkupResemblesLocatorWarning: The input looks more like a filename than markup. You may want to open this file and pass the filehandle into Beautiful Soup.\n",
      "  dfs[variable_name] = dfs[variable_name].applymap(lambda x: BeautifulSoup(x, 'html.parser').text if isinstance(x, str) else x)\n",
      "/tmp/ipykernel_3012722/4221725846.py:4: MarkupResemblesLocatorWarning: The input looks more like a filename than markup. You may want to open this file and pass the filehandle into Beautiful Soup.\n",
      "  dfs[variable_name] = dfs[variable_name].applymap(lambda x: BeautifulSoup(x, 'html.parser').text if isinstance(x, str) else x)\n",
      "/tmp/ipykernel_3012722/4221725846.py:4: MarkupResemblesLocatorWarning: The input looks more like a filename than markup. You may want to open this file and pass the filehandle into Beautiful Soup.\n",
      "  dfs[variable_name] = dfs[variable_name].applymap(lambda x: BeautifulSoup(x, 'html.parser').text if isinstance(x, str) else x)\n",
      "/tmp/ipykernel_3012722/4221725846.py:4: MarkupResemblesLocatorWarning: The input looks more like a filename than markup. You may want to open this file and pass the filehandle into Beautiful Soup.\n",
      "  dfs[variable_name] = dfs[variable_name].applymap(lambda x: BeautifulSoup(x, 'html.parser').text if isinstance(x, str) else x)\n",
      "/tmp/ipykernel_3012722/4221725846.py:4: MarkupResemblesLocatorWarning: The input looks more like a filename than markup. You may want to open this file and pass the filehandle into Beautiful Soup.\n",
      "  dfs[variable_name] = dfs[variable_name].applymap(lambda x: BeautifulSoup(x, 'html.parser').text if isinstance(x, str) else x)\n",
      "/tmp/ipykernel_3012722/4221725846.py:4: MarkupResemblesLocatorWarning: The input looks more like a filename than markup. You may want to open this file and pass the filehandle into Beautiful Soup.\n",
      "  dfs[variable_name] = dfs[variable_name].applymap(lambda x: BeautifulSoup(x, 'html.parser').text if isinstance(x, str) else x)\n",
      "/tmp/ipykernel_3012722/4221725846.py:4: MarkupResemblesLocatorWarning: The input looks more like a filename than markup. You may want to open this file and pass the filehandle into Beautiful Soup.\n",
      "  dfs[variable_name] = dfs[variable_name].applymap(lambda x: BeautifulSoup(x, 'html.parser').text if isinstance(x, str) else x)\n",
      "/tmp/ipykernel_3012722/4221725846.py:4: MarkupResemblesLocatorWarning: The input looks more like a filename than markup. You may want to open this file and pass the filehandle into Beautiful Soup.\n",
      "  dfs[variable_name] = dfs[variable_name].applymap(lambda x: BeautifulSoup(x, 'html.parser').text if isinstance(x, str) else x)\n",
      "/tmp/ipykernel_3012722/4221725846.py:4: MarkupResemblesLocatorWarning: The input looks more like a filename than markup. You may want to open this file and pass the filehandle into Beautiful Soup.\n",
      "  dfs[variable_name] = dfs[variable_name].applymap(lambda x: BeautifulSoup(x, 'html.parser').text if isinstance(x, str) else x)\n",
      "/tmp/ipykernel_3012722/4221725846.py:4: MarkupResemblesLocatorWarning: The input looks more like a filename than markup. You may want to open this file and pass the filehandle into Beautiful Soup.\n",
      "  dfs[variable_name] = dfs[variable_name].applymap(lambda x: BeautifulSoup(x, 'html.parser').text if isinstance(x, str) else x)\n",
      "/tmp/ipykernel_3012722/4221725846.py:4: MarkupResemblesLocatorWarning: The input looks more like a filename than markup. You may want to open this file and pass the filehandle into Beautiful Soup.\n",
      "  dfs[variable_name] = dfs[variable_name].applymap(lambda x: BeautifulSoup(x, 'html.parser').text if isinstance(x, str) else x)\n",
      "/tmp/ipykernel_3012722/4221725846.py:4: MarkupResemblesLocatorWarning: The input looks more like a filename than markup. You may want to open this file and pass the filehandle into Beautiful Soup.\n",
      "  dfs[variable_name] = dfs[variable_name].applymap(lambda x: BeautifulSoup(x, 'html.parser').text if isinstance(x, str) else x)\n",
      "/tmp/ipykernel_3012722/4221725846.py:4: MarkupResemblesLocatorWarning: The input looks more like a filename than markup. You may want to open this file and pass the filehandle into Beautiful Soup.\n",
      "  dfs[variable_name] = dfs[variable_name].applymap(lambda x: BeautifulSoup(x, 'html.parser').text if isinstance(x, str) else x)\n",
      "/tmp/ipykernel_3012722/4221725846.py:4: MarkupResemblesLocatorWarning: The input looks more like a filename than markup. You may want to open this file and pass the filehandle into Beautiful Soup.\n",
      "  dfs[variable_name] = dfs[variable_name].applymap(lambda x: BeautifulSoup(x, 'html.parser').text if isinstance(x, str) else x)\n",
      "/tmp/ipykernel_3012722/4221725846.py:4: MarkupResemblesLocatorWarning: The input looks more like a URL than markup. You may want to use an HTTP client like requests to get the document behind the URL, and feed that document to Beautiful Soup.\n",
      "  dfs[variable_name] = dfs[variable_name].applymap(lambda x: BeautifulSoup(x, 'html.parser').text if isinstance(x, str) else x)\n",
      "/tmp/ipykernel_3012722/4221725846.py:4: MarkupResemblesLocatorWarning: The input looks more like a URL than markup. You may want to use an HTTP client like requests to get the document behind the URL, and feed that document to Beautiful Soup.\n",
      "  dfs[variable_name] = dfs[variable_name].applymap(lambda x: BeautifulSoup(x, 'html.parser').text if isinstance(x, str) else x)\n",
      "/tmp/ipykernel_3012722/4221725846.py:4: MarkupResemblesLocatorWarning: The input looks more like a filename than markup. You may want to open this file and pass the filehandle into Beautiful Soup.\n",
      "  dfs[variable_name] = dfs[variable_name].applymap(lambda x: BeautifulSoup(x, 'html.parser').text if isinstance(x, str) else x)\n",
      "/tmp/ipykernel_3012722/4221725846.py:4: MarkupResemblesLocatorWarning: The input looks more like a filename than markup. You may want to open this file and pass the filehandle into Beautiful Soup.\n",
      "  dfs[variable_name] = dfs[variable_name].applymap(lambda x: BeautifulSoup(x, 'html.parser').text if isinstance(x, str) else x)\n",
      "/tmp/ipykernel_3012722/4221725846.py:4: MarkupResemblesLocatorWarning: The input looks more like a filename than markup. You may want to open this file and pass the filehandle into Beautiful Soup.\n",
      "  dfs[variable_name] = dfs[variable_name].applymap(lambda x: BeautifulSoup(x, 'html.parser').text if isinstance(x, str) else x)\n",
      "/tmp/ipykernel_3012722/4221725846.py:4: MarkupResemblesLocatorWarning: The input looks more like a filename than markup. You may want to open this file and pass the filehandle into Beautiful Soup.\n",
      "  dfs[variable_name] = dfs[variable_name].applymap(lambda x: BeautifulSoup(x, 'html.parser').text if isinstance(x, str) else x)\n",
      "/tmp/ipykernel_3012722/4221725846.py:4: MarkupResemblesLocatorWarning: The input looks more like a filename than markup. You may want to open this file and pass the filehandle into Beautiful Soup.\n",
      "  dfs[variable_name] = dfs[variable_name].applymap(lambda x: BeautifulSoup(x, 'html.parser').text if isinstance(x, str) else x)\n",
      "/tmp/ipykernel_3012722/4221725846.py:4: MarkupResemblesLocatorWarning: The input looks more like a filename than markup. You may want to open this file and pass the filehandle into Beautiful Soup.\n",
      "  dfs[variable_name] = dfs[variable_name].applymap(lambda x: BeautifulSoup(x, 'html.parser').text if isinstance(x, str) else x)\n",
      "/tmp/ipykernel_3012722/4221725846.py:4: MarkupResemblesLocatorWarning: The input looks more like a filename than markup. You may want to open this file and pass the filehandle into Beautiful Soup.\n",
      "  dfs[variable_name] = dfs[variable_name].applymap(lambda x: BeautifulSoup(x, 'html.parser').text if isinstance(x, str) else x)\n",
      "/tmp/ipykernel_3012722/4221725846.py:4: MarkupResemblesLocatorWarning: The input looks more like a filename than markup. You may want to open this file and pass the filehandle into Beautiful Soup.\n",
      "  dfs[variable_name] = dfs[variable_name].applymap(lambda x: BeautifulSoup(x, 'html.parser').text if isinstance(x, str) else x)\n"
     ]
    }
   ],
   "source": [
    "from bs4 import BeautifulSoup\n",
    "\n",
    "for variable_name, df in dfs.items():\n",
    "    dfs[variable_name] = dfs[variable_name].applymap(lambda x: BeautifulSoup(x, 'html.parser').text if isinstance(x, str) else x)"
   ]
  },
  {
   "cell_type": "markdown",
   "metadata": {},
   "source": [
    "## Summary:"
   ]
  },
  {
   "cell_type": "markdown",
   "metadata": {},
   "source": [
    "### Tables that need be transformed:"
   ]
  },
  {
   "cell_type": "markdown",
   "metadata": {},
   "source": [
    "- ad_gefahr-20231128\n",
    "- ad_meldung-20231128\n",
    "- ad_steckbrief-20231128\n",
    "- ad_bereich-20231128\n",
    "- ad_aktivitaet-20231128\n",
    "- ad_publikation-20231128\n",
    "- ad_document-20231128\n",
    "- ad_beurteilung-20231128\n",
    "- ad_treiber-20231128\n",
    "- ad_matrix-20231128\n",
    "- ad_log-20231128\n",
    "- ad_publikation_detail-20231128"
   ]
  },
  {
   "cell_type": "markdown",
   "metadata": {},
   "source": [
    "### Tables that need to be (used) in the Dashboard:"
   ]
  },
  {
   "cell_type": "markdown",
   "metadata": {},
   "source": [
    "- ad_gefahr\n",
    "- ad_meldung\n",
    "- ad_steckbrief\n",
    "- ad_bereich\n",
    "- ad_publikation\n",
    "- ad_matrix\n",
    "- ad_treiber\n",
    "- ad_publikation_detail\n",
    "- ad_document ?\n",
    "- ad_meldung_ad_bereich\n",
    "- ad_meldung_ad_gefahr\n",
    "- ad_meldung_ad_steckbrief\n",
    "- ad_steckbrief_ad_bereich\n",
    "- ad_steckbrief_ad_gefahr\n",
    "- ad_meldung_ad_matrix\n",
    "- ad_steckbrief_ad_matrix\n",
    "- ad_meldung_ad_treiber"
   ]
  },
  {
   "cell_type": "markdown",
   "metadata": {},
   "source": [
    "![image](graph.png)"
   ]
  }
 ],
 "metadata": {
  "kernelspec": {
   "display_name": "Python 3.8.10 64-bit",
   "language": "python",
   "name": "python3"
  },
  "language_info": {
   "codemirror_mode": {
    "name": "ipython",
    "version": 3
   },
   "file_extension": ".py",
   "mimetype": "text/x-python",
   "name": "python",
   "nbconvert_exporter": "python",
   "pygments_lexer": "ipython3",
   "version": "3.8.10"
  },
  "orig_nbformat": 4,
  "vscode": {
   "interpreter": {
    "hash": "e7370f93d1d0cde622a1f8e1c04877d8463912d04d973331ad4851f04de6915a"
   }
  }
 },
 "nbformat": 4,
 "nbformat_minor": 2
}
